{
 "cells": [
  {
   "cell_type": "markdown",
   "metadata": {},
   "source": [
    "# Наша основная цель - выявить выбросы, отклонения в данных.\n",
    "### Для чего это нужно? Что бы наша модель, которую мы построим по этим данным была корректная. Выбросы изменяют наши статистические параметры данных - среднюю и ср. кв. отклонение. К примеру, широко известная шутка по поводу средней ЗП. Если пишут что средняя ЗП состовляет по региону(1000 человек) 250т.р. то можно удивится откуда такие ЗП!) Но при этом не смотрят на отклонения в данных. А если внимательно посмотреть то окажется что 9990 людей получают 20т.р. а 10 людей по 5 млн.р Как раз таки эти 10 людей и вводят в заблуждение нас. Возможен и другой вариант: у человека была украдена карта, после этого пошли большие траты с нее. Банку это может выявить данное мошенечество. В связи с этим нужно смотреть и другие статистические параметры данных. Применительно к выше приведенному примеру можно посмотреть моду она и будет характеризовать данные"
   ]
  },
  {
   "cell_type": "markdown",
   "metadata": {},
   "source": [
    "### План работы такой:\n",
    "#### 1. После считывания посмотреть на типы данных (категориальные, численные, булевы...)\n",
    "#### 2. Обработать отсутствущие данные \n",
    "#### 3. Работа с выбросами\n",
    "#### 3.1. Преобразовать данные которые записаны как категориальные в численные \n",
    "#### 3.2 Обнаружить эти выбросы\n",
    "#### 3.2.1. Статистические методы обнаружения\n",
    "#### 3.2.2. Методы обнаружения с использованием алгоритов машинного обучения"
   ]
  },
  {
   "cell_type": "markdown",
   "metadata": {},
   "source": [
    "# №1"
   ]
  },
  {
   "cell_type": "code",
   "execution_count": 1,
   "metadata": {},
   "outputs": [],
   "source": [
    "import pandas as pd\n",
    "import numpy as np\n",
    "import matplotlib.pyplot as plt\n",
    "import seaborn as sns\n",
    "%matplotlib inline"
   ]
  },
  {
   "cell_type": "code",
   "execution_count": 2,
   "metadata": {},
   "outputs": [
    {
     "data": {
      "text/html": [
       "<div>\n",
       "<style scoped>\n",
       "    .dataframe tbody tr th:only-of-type {\n",
       "        vertical-align: middle;\n",
       "    }\n",
       "\n",
       "    .dataframe tbody tr th {\n",
       "        vertical-align: top;\n",
       "    }\n",
       "\n",
       "    .dataframe thead th {\n",
       "        text-align: right;\n",
       "    }\n",
       "</style>\n",
       "<table border=\"1\" class=\"dataframe\">\n",
       "  <thead>\n",
       "    <tr style=\"text-align: right;\">\n",
       "      <th></th>\n",
       "      <th>member_unique_id</th>\n",
       "      <th>gender</th>\n",
       "      <th>dob</th>\n",
       "      <th>eligible_year</th>\n",
       "      <th>eligible_month</th>\n",
       "      <th>affiliation_type</th>\n",
       "      <th>pbp_group</th>\n",
       "      <th>plan_name</th>\n",
       "      <th>npi</th>\n",
       "      <th>line_of_business</th>\n",
       "      <th>...</th>\n",
       "      <th>pcp_ffs</th>\n",
       "      <th>plan_premium</th>\n",
       "      <th>prof</th>\n",
       "      <th>reinsurance</th>\n",
       "      <th>risk_score_partd</th>\n",
       "      <th>rx</th>\n",
       "      <th>rx_rebates</th>\n",
       "      <th>rx_with_rebates</th>\n",
       "      <th>rx_without_rebates</th>\n",
       "      <th>spec_cap</th>\n",
       "    </tr>\n",
       "  </thead>\n",
       "  <tbody>\n",
       "    <tr>\n",
       "      <th>0</th>\n",
       "      <td>1</td>\n",
       "      <td>F</td>\n",
       "      <td>21/06/1990</td>\n",
       "      <td>2020</td>\n",
       "      <td>202006</td>\n",
       "      <td>Affiliate</td>\n",
       "      <td>NON-SNP</td>\n",
       "      <td>MEDICARE - CAREFREE</td>\n",
       "      <td>1</td>\n",
       "      <td>HMO</td>\n",
       "      <td>...</td>\n",
       "      <td>$0.00</td>\n",
       "      <td>$3,507.00</td>\n",
       "      <td>$0.00</td>\n",
       "      <td>$7.92</td>\n",
       "      <td>$0.00</td>\n",
       "      <td>$0.00</td>\n",
       "      <td>$0.00</td>\n",
       "      <td>$0.00</td>\n",
       "      <td>$0.00</td>\n",
       "      <td>$843.78</td>\n",
       "    </tr>\n",
       "    <tr>\n",
       "      <th>1</th>\n",
       "      <td>2</td>\n",
       "      <td>M</td>\n",
       "      <td>02/01/1948</td>\n",
       "      <td>2020</td>\n",
       "      <td>202006</td>\n",
       "      <td>Affiliate</td>\n",
       "      <td>NON-SNP</td>\n",
       "      <td>NaN</td>\n",
       "      <td>1</td>\n",
       "      <td>HMO</td>\n",
       "      <td>...</td>\n",
       "      <td>$0.00</td>\n",
       "      <td>$6,204.84</td>\n",
       "      <td>$0.00</td>\n",
       "      <td>$8.13</td>\n",
       "      <td>$0.00</td>\n",
       "      <td>$11,289.69</td>\n",
       "      <td>$0.00</td>\n",
       "      <td>$10,688.46</td>\n",
       "      <td>$10,859.82</td>\n",
       "      <td>$906.77</td>\n",
       "    </tr>\n",
       "    <tr>\n",
       "      <th>2</th>\n",
       "      <td>3</td>\n",
       "      <td>M</td>\n",
       "      <td>14/06/1948</td>\n",
       "      <td>2020</td>\n",
       "      <td>202006</td>\n",
       "      <td>Affiliate</td>\n",
       "      <td>NON-SNP</td>\n",
       "      <td>MEDICARE - CAREFREE</td>\n",
       "      <td>1</td>\n",
       "      <td>HMO</td>\n",
       "      <td>...</td>\n",
       "      <td>$0.00</td>\n",
       "      <td>$4,012.46</td>\n",
       "      <td>$0.00</td>\n",
       "      <td>$7.92</td>\n",
       "      <td>$0.00</td>\n",
       "      <td>$0.00</td>\n",
       "      <td>$0.00</td>\n",
       "      <td>$0.00</td>\n",
       "      <td>$0.00</td>\n",
       "      <td>$815.84</td>\n",
       "    </tr>\n",
       "    <tr>\n",
       "      <th>3</th>\n",
       "      <td>4</td>\n",
       "      <td>M</td>\n",
       "      <td>10/02/1954</td>\n",
       "      <td>2020</td>\n",
       "      <td>202006</td>\n",
       "      <td>Affiliate</td>\n",
       "      <td>D-SNP</td>\n",
       "      <td>MEDICARE - CARENEEDS</td>\n",
       "      <td>1</td>\n",
       "      <td>HMO</td>\n",
       "      <td>...</td>\n",
       "      <td>$0.00</td>\n",
       "      <td>$9,770.61</td>\n",
       "      <td>$0.00</td>\n",
       "      <td>$8.30</td>\n",
       "      <td>$0.00</td>\n",
       "      <td>$73.88</td>\n",
       "      <td>$0.00</td>\n",
       "      <td>$62.87</td>\n",
       "      <td>$64.91</td>\n",
       "      <td>$846.26</td>\n",
       "    </tr>\n",
       "    <tr>\n",
       "      <th>4</th>\n",
       "      <td>5</td>\n",
       "      <td>M</td>\n",
       "      <td>31/12/1953</td>\n",
       "      <td>2020</td>\n",
       "      <td>202006</td>\n",
       "      <td>Affiliate</td>\n",
       "      <td>NON-SNP</td>\n",
       "      <td>NaN</td>\n",
       "      <td>1</td>\n",
       "      <td>HMO</td>\n",
       "      <td>...</td>\n",
       "      <td>$0.00</td>\n",
       "      <td>$19,976.13</td>\n",
       "      <td>$8,875.80</td>\n",
       "      <td>$8.90</td>\n",
       "      <td>$0.00</td>\n",
       "      <td>$522.48</td>\n",
       "      <td>$0.00</td>\n",
       "      <td>$517.56</td>\n",
       "      <td>$606.01</td>\n",
       "      <td>$867.55</td>\n",
       "    </tr>\n",
       "  </tbody>\n",
       "</table>\n",
       "<p>5 rows × 28 columns</p>\n",
       "</div>"
      ],
      "text/plain": [
       "   member_unique_id gender         dob  eligible_year  eligible_month  \\\n",
       "0                 1      F  21/06/1990           2020          202006   \n",
       "1                 2      M  02/01/1948           2020          202006   \n",
       "2                 3      M  14/06/1948           2020          202006   \n",
       "3                 4      M  10/02/1954           2020          202006   \n",
       "4                 5      M  31/12/1953           2020          202006   \n",
       "\n",
       "  affiliation_type pbp_group             plan_name  npi line_of_business  ...  \\\n",
       "0        Affiliate   NON-SNP   MEDICARE - CAREFREE    1              HMO  ...   \n",
       "1        Affiliate   NON-SNP                   NaN    1              HMO  ...   \n",
       "2        Affiliate   NON-SNP   MEDICARE - CAREFREE    1              HMO  ...   \n",
       "3        Affiliate     D-SNP  MEDICARE - CARENEEDS    1              HMO  ...   \n",
       "4        Affiliate   NON-SNP                   NaN    1              HMO  ...   \n",
       "\n",
       "   pcp_ffs  plan_premium       prof reinsurance risk_score_partd          rx  \\\n",
       "0    $0.00     $3,507.00      $0.00       $7.92            $0.00       $0.00   \n",
       "1    $0.00     $6,204.84      $0.00       $8.13            $0.00  $11,289.69   \n",
       "2    $0.00     $4,012.46      $0.00       $7.92            $0.00       $0.00   \n",
       "3    $0.00     $9,770.61      $0.00       $8.30            $0.00      $73.88   \n",
       "4    $0.00    $19,976.13  $8,875.80       $8.90            $0.00     $522.48   \n",
       "\n",
       "  rx_rebates rx_with_rebates rx_without_rebates spec_cap  \n",
       "0      $0.00           $0.00              $0.00  $843.78  \n",
       "1      $0.00      $10,688.46         $10,859.82  $906.77  \n",
       "2      $0.00           $0.00              $0.00  $815.84  \n",
       "3      $0.00          $62.87             $64.91  $846.26  \n",
       "4      $0.00         $517.56            $606.01  $867.55  \n",
       "\n",
       "[5 rows x 28 columns]"
      ]
     },
     "execution_count": 2,
     "metadata": {},
     "output_type": "execute_result"
    }
   ],
   "source": [
    "df = pd.read_csv('sfr_test.csv')\n",
    "df.head()"
   ]
  },
  {
   "cell_type": "code",
   "execution_count": 3,
   "metadata": {},
   "outputs": [
    {
     "data": {
      "text/plain": [
       "(10530, 28)"
      ]
     },
     "execution_count": 3,
     "metadata": {},
     "output_type": "execute_result"
    }
   ],
   "source": [
    "df.shape # смотрим сколько наборов данных и сколько фичей"
   ]
  },
  {
   "cell_type": "code",
   "execution_count": 4,
   "metadata": {},
   "outputs": [
    {
     "data": {
      "text/plain": [
       "member_unique_id        int64\n",
       "gender                 object\n",
       "dob                    object\n",
       "eligible_year           int64\n",
       "eligible_month          int64\n",
       "affiliation_type       object\n",
       "pbp_group              object\n",
       "plan_name              object\n",
       "npi                     int64\n",
       "line_of_business       object\n",
       "esrd                     bool\n",
       "hospice                  bool\n",
       "ipa_funding            object\n",
       "ma_premium             object\n",
       "ma_risk_score          object\n",
       "mbr_with_rx_rebates    object\n",
       "partd_premium          object\n",
       "pcp_cap                object\n",
       "pcp_ffs                object\n",
       "plan_premium           object\n",
       "prof                   object\n",
       "reinsurance            object\n",
       "risk_score_partd       object\n",
       "rx                     object\n",
       "rx_rebates             object\n",
       "rx_with_rebates        object\n",
       "rx_without_rebates     object\n",
       "spec_cap               object\n",
       "dtype: object"
      ]
     },
     "execution_count": 4,
     "metadata": {},
     "output_type": "execute_result"
    }
   ],
   "source": [
    "df.dtypes # смотрим на типы данных"
   ]
  },
  {
   "cell_type": "code",
   "execution_count": 5,
   "metadata": {},
   "outputs": [],
   "source": [
    "# Видим что многие числовые фичи идут как категориальные\n",
    "# их нужно преобразовать"
   ]
  },
  {
   "cell_type": "markdown",
   "metadata": {},
   "source": [
    "# №2"
   ]
  },
  {
   "cell_type": "code",
   "execution_count": 6,
   "metadata": {},
   "outputs": [
    {
     "data": {
      "text/plain": [
       "member_unique_id          0\n",
       "gender                    0\n",
       "dob                       0\n",
       "eligible_year             0\n",
       "eligible_month            0\n",
       "affiliation_type          0\n",
       "pbp_group                 0\n",
       "plan_name              3924\n",
       "npi                       0\n",
       "line_of_business          0\n",
       "esrd                      0\n",
       "hospice                   0\n",
       "ipa_funding               0\n",
       "ma_premium                0\n",
       "ma_risk_score             0\n",
       "mbr_with_rx_rebates       0\n",
       "partd_premium             0\n",
       "pcp_cap                   0\n",
       "pcp_ffs                   0\n",
       "plan_premium              0\n",
       "prof                      0\n",
       "reinsurance               0\n",
       "risk_score_partd          0\n",
       "rx                        0\n",
       "rx_rebates                0\n",
       "rx_with_rebates           0\n",
       "rx_without_rebates        0\n",
       "spec_cap                  0\n",
       "dtype: int64"
      ]
     },
     "execution_count": 6,
     "metadata": {},
     "output_type": "execute_result"
    }
   ],
   "source": [
    "df.isnull().sum() # смотрим пропуски в данных"
   ]
  },
  {
   "cell_type": "code",
   "execution_count": 7,
   "metadata": {},
   "outputs": [
    {
     "data": {
      "text/plain": [
       "MEDICARE - CAREFREE     4469\n",
       "MEDICARE - CARENEEDS    2006\n",
       "MEDICARE - CAREONE       131\n",
       "Name: plan_name, dtype: int64"
      ]
     },
     "execution_count": 7,
     "metadata": {},
     "output_type": "execute_result"
    }
   ],
   "source": [
    "# пропуски только в одном признаке = plan_name\n",
    "# посмотрим что там\n",
    "df['plan_name'].value_counts()"
   ]
  },
  {
   "cell_type": "code",
   "execution_count": 8,
   "metadata": {},
   "outputs": [
    {
     "data": {
      "text/plain": [
       "(10530, 27)"
      ]
     },
     "execution_count": 8,
     "metadata": {},
     "output_type": "execute_result"
    }
   ],
   "source": [
    "# данный признак не несет в себе числовой информации\n",
    "# т.к. наша цель выявить выбросы, то в связи с тем что я не знаю смысловой нагрузки данного параметра - удалю его\n",
    "df.drop(['plan_name'], axis= 1, inplace=True)\n",
    "df.shape"
   ]
  },
  {
   "cell_type": "markdown",
   "metadata": {},
   "source": [
    "# № 3"
   ]
  },
  {
   "cell_type": "markdown",
   "metadata": {},
   "source": [
    "### № 3.1"
   ]
  },
  {
   "cell_type": "code",
   "execution_count": 9,
   "metadata": {},
   "outputs": [
    {
     "name": "stdout",
     "output_type": "stream",
     "text": [
      "ipa_funding\n",
      "ma_premium\n",
      "ma_risk_score\n",
      "mbr_with_rx_rebates\n",
      "partd_premium\n",
      "pcp_cap\n",
      "pcp_ffs\n",
      "plan_premium\n",
      "prof\n",
      "reinsurance\n",
      "risk_score_partd\n",
      "rx\n",
      "rx_rebates\n",
      "rx_with_rebates\n",
      "rx_without_rebates\n",
      "spec_cap\n"
     ]
    }
   ],
   "source": [
    "# Преобразуем все числове признаки (финансовые), \n",
    "# которые содержат знак $ в числовой тип\n",
    "# иначе убираем данный признак, в всвязи с тем что нужен анализ финансовых данных\n",
    "member_id = df.member_unique_id # ID клиента будет удалено, поэтому копирую \n",
    "for col in df.columns:\n",
    "    try:\n",
    "        if ('$' in df.loc[0, col]):\n",
    "            print(col)\n",
    "            df[col] = df[col].str.replace('$', '').str.replace(',', '').astype(float)\n",
    "        else:\n",
    "            df.drop([col], axis = 1, inplace = True)\n",
    "    except:\n",
    "        df.drop([col], axis = 1, inplace = True)"
   ]
  },
  {
   "cell_type": "code",
   "execution_count": 10,
   "metadata": {},
   "outputs": [],
   "source": [
    "df['member_unique_id'] = member_id # ID обратно вставляю"
   ]
  },
  {
   "cell_type": "code",
   "execution_count": 11,
   "metadata": {},
   "outputs": [
    {
     "name": "stdout",
     "output_type": "stream",
     "text": [
      "<class 'pandas.core.frame.DataFrame'>\n",
      "RangeIndex: 10530 entries, 0 to 10529\n",
      "Data columns (total 17 columns):\n",
      "ipa_funding            10530 non-null float64\n",
      "ma_premium             10530 non-null float64\n",
      "ma_risk_score          10530 non-null float64\n",
      "mbr_with_rx_rebates    10530 non-null float64\n",
      "partd_premium          10530 non-null float64\n",
      "pcp_cap                10530 non-null float64\n",
      "pcp_ffs                10530 non-null float64\n",
      "plan_premium           10530 non-null float64\n",
      "prof                   10530 non-null float64\n",
      "reinsurance            10530 non-null float64\n",
      "risk_score_partd       10530 non-null float64\n",
      "rx                     10530 non-null float64\n",
      "rx_rebates             10530 non-null float64\n",
      "rx_with_rebates        10530 non-null float64\n",
      "rx_without_rebates     10530 non-null float64\n",
      "spec_cap               10530 non-null float64\n",
      "member_unique_id       10530 non-null int64\n",
      "dtypes: float64(16), int64(1)\n",
      "memory usage: 1.4 MB\n"
     ]
    }
   ],
   "source": [
    "df.info()"
   ]
  },
  {
   "cell_type": "code",
   "execution_count": 12,
   "metadata": {},
   "outputs": [
    {
     "name": "stdout",
     "output_type": "stream",
     "text": [
      "col = ipa_funding, number element = 10460\n",
      "col = ma_premium, number element = 10435\n",
      "col = ma_risk_score, number element = 3282\n",
      "col = mbr_with_rx_rebates, number element = 9739\n",
      "col = partd_premium, number element = 9293\n",
      "col = pcp_cap, number element = 1168\n",
      "col = pcp_ffs, number element = 379\n",
      "col = plan_premium, number element = 10463\n",
      "col = prof, number element = 1791\n",
      "col = reinsurance, number element = 175\n",
      "col = risk_score_partd, number element = 1\n",
      "col = rx, number element = 6445\n",
      "col = rx_rebates, number element = 1\n",
      "col = rx_with_rebates, number element = 6442\n",
      "col = rx_without_rebates, number element = 6471\n",
      "col = spec_cap, number element = 6866\n",
      "col = member_unique_id, number element = 10530\n"
     ]
    }
   ],
   "source": [
    "# в оставшихся финансовых данных посмотрим сколько уникальных значений в каждой фиче\n",
    "new_columns = [] # список фичей где кол-о уникальных значений будет более 10\n",
    "for col in df.columns:\n",
    "    num_element = df[col].nunique() # кол-о уникальных значений в признаке\n",
    "    print('col = {}, number element = {}'.format(col, num_element))\n",
    "    # если кол-о уникальных значений более 10\n",
    "    if num_element > 10: \n",
    "        new_columns.append(col)"
   ]
  },
  {
   "cell_type": "markdown",
   "metadata": {},
   "source": [
    "### Видим что 2 признака risk_score_partd &  rx_rebates имеют только по 1 уникальному значению. Посмотрим что там:"
   ]
  },
  {
   "cell_type": "code",
   "execution_count": 13,
   "metadata": {},
   "outputs": [
    {
     "data": {
      "text/plain": [
       "0    0.0\n",
       "1    0.0\n",
       "2    0.0\n",
       "3    0.0\n",
       "4    0.0\n",
       "Name: rx_rebates, dtype: float64"
      ]
     },
     "execution_count": 13,
     "metadata": {},
     "output_type": "execute_result"
    }
   ],
   "source": [
    "df['rx_rebates'].head()"
   ]
  },
  {
   "cell_type": "code",
   "execution_count": 14,
   "metadata": {},
   "outputs": [
    {
     "data": {
      "text/plain": [
       "0    0.0\n",
       "1    0.0\n",
       "2    0.0\n",
       "3    0.0\n",
       "4    0.0\n",
       "Name: risk_score_partd, dtype: float64"
      ]
     },
     "execution_count": 14,
     "metadata": {},
     "output_type": "execute_result"
    }
   ],
   "source": [
    "df['risk_score_partd'].head()"
   ]
  },
  {
   "cell_type": "markdown",
   "metadata": {},
   "source": [
    "### Данные признаки не несут в себе никакой информации для анализа - удалим: "
   ]
  },
  {
   "cell_type": "code",
   "execution_count": 15,
   "metadata": {},
   "outputs": [],
   "source": [
    "df.drop(['risk_score_partd', 'rx_rebates'], axis = 1, inplace= True)"
   ]
  },
  {
   "cell_type": "code",
   "execution_count": 16,
   "metadata": {},
   "outputs": [
    {
     "name": "stdout",
     "output_type": "stream",
     "text": [
      "<class 'pandas.core.frame.DataFrame'>\n",
      "RangeIndex: 10530 entries, 0 to 10529\n",
      "Data columns (total 15 columns):\n",
      "ipa_funding            10530 non-null float64\n",
      "ma_premium             10530 non-null float64\n",
      "ma_risk_score          10530 non-null float64\n",
      "mbr_with_rx_rebates    10530 non-null float64\n",
      "partd_premium          10530 non-null float64\n",
      "pcp_cap                10530 non-null float64\n",
      "pcp_ffs                10530 non-null float64\n",
      "plan_premium           10530 non-null float64\n",
      "prof                   10530 non-null float64\n",
      "reinsurance            10530 non-null float64\n",
      "rx                     10530 non-null float64\n",
      "rx_with_rebates        10530 non-null float64\n",
      "rx_without_rebates     10530 non-null float64\n",
      "spec_cap               10530 non-null float64\n",
      "member_unique_id       10530 non-null int64\n",
      "dtypes: float64(14), int64(1)\n",
      "memory usage: 1.2 MB\n"
     ]
    }
   ],
   "source": [
    "df.info()"
   ]
  },
  {
   "cell_type": "code",
   "execution_count": 17,
   "metadata": {},
   "outputs": [
    {
     "name": "stdout",
     "output_type": "stream",
     "text": [
      "col = pcp_ffs, 96.0%\n",
      "col = prof, 82.5%\n"
     ]
    }
   ],
   "source": [
    "# неинформативные признаки\n",
    "# будем искать так же признаки у которых в более 50% строк одно и тоже значение\n",
    "for col in df.columns:\n",
    "    count_val = df[col].value_counts()\n",
    "    top_percent = (count_val / df.shape[0]).iloc[0]\n",
    "    if top_percent > 0.5:\n",
    "        print('col = {}, {:.1f}%'.format(col, top_percent*100))\n",
    "        #print(count_val)"
   ]
  },
  {
   "cell_type": "markdown",
   "metadata": {},
   "source": [
    "### 2 признака  pcp_ffs и prof не несут особо  в себе информации. Взглянем на их гистограммы:"
   ]
  },
  {
   "cell_type": "code",
   "execution_count": 18,
   "metadata": {},
   "outputs": [
    {
     "data": {
      "text/plain": [
       "<matplotlib.axes._subplots.AxesSubplot at 0x12f71358>"
      ]
     },
     "execution_count": 18,
     "metadata": {},
     "output_type": "execute_result"
    },
    {
     "data": {
      "image/png": "[encoded data removed]",
      "text/plain": [
       "<Figure size 432x288 with 1 Axes>"
      ]
     },
     "metadata": {
      "needs_background": "light"
     },
     "output_type": "display_data"
    }
   ],
   "source": [
    "df.pcp_ffs.hist(bins = 50)"
   ]
  },
  {
   "cell_type": "code",
   "execution_count": 19,
   "metadata": {},
   "outputs": [
    {
     "data": {
      "text/plain": [
       "<matplotlib.axes._subplots.AxesSubplot at 0x1223f9e8>"
      ]
     },
     "execution_count": 19,
     "metadata": {},
     "output_type": "execute_result"
    },
    {
     "data": {
      "image/png": "[encoded data removed]",
      "text/plain": [
       "<Figure size 432x288 with 1 Axes>"
      ]
     },
     "metadata": {
      "needs_background": "light"
     },
     "output_type": "display_data"
    }
   ],
   "source": [
    "df.prof.hist(bins = 50)"
   ]
  },
  {
   "cell_type": "markdown",
   "metadata": {},
   "source": [
    "### Так же удалим данные признаки: "
   ]
  },
  {
   "cell_type": "code",
   "execution_count": 20,
   "metadata": {},
   "outputs": [],
   "source": [
    "df.drop(['pcp_ffs', 'prof'], axis = 1 , inplace= True)"
   ]
  },
  {
   "cell_type": "code",
   "execution_count": 21,
   "metadata": {},
   "outputs": [
    {
     "name": "stdout",
     "output_type": "stream",
     "text": [
      "<class 'pandas.core.frame.DataFrame'>\n",
      "RangeIndex: 10530 entries, 0 to 10529\n",
      "Data columns (total 13 columns):\n",
      "ipa_funding            10530 non-null float64\n",
      "ma_premium             10530 non-null float64\n",
      "ma_risk_score          10530 non-null float64\n",
      "mbr_with_rx_rebates    10530 non-null float64\n",
      "partd_premium          10530 non-null float64\n",
      "pcp_cap                10530 non-null float64\n",
      "plan_premium           10530 non-null float64\n",
      "reinsurance            10530 non-null float64\n",
      "rx                     10530 non-null float64\n",
      "rx_with_rebates        10530 non-null float64\n",
      "rx_without_rebates     10530 non-null float64\n",
      "spec_cap               10530 non-null float64\n",
      "member_unique_id       10530 non-null int64\n",
      "dtypes: float64(12), int64(1)\n",
      "memory usage: 1.0 MB\n"
     ]
    }
   ],
   "source": [
    "df.info()"
   ]
  },
  {
   "cell_type": "markdown",
   "metadata": {},
   "source": [
    "### Данные готовы для анализа на выбросы "
   ]
  },
  {
   "cell_type": "markdown",
   "metadata": {},
   "source": [
    "# 3.2 "
   ]
  },
  {
   "cell_type": "markdown",
   "metadata": {},
   "source": [
    "### 3.2.1 "
   ]
  },
  {
   "cell_type": "markdown",
   "metadata": {},
   "source": [
    "## 1й способ анализа: по стандартному отклонению. Обычно данные имеют приблизительно нормальное распределение - 68% значений в пределах 1го станд. отклонения, 95% в пределах - 2х стандартных отклонений и 99.7% в пределах 3х стандартных отклонений. Будем искать среди наших данных те точки которые превышают более чем в 3 раза станд. отклонение"
   ]
  },
  {
   "cell_type": "code",
   "execution_count": 22,
   "metadata": {},
   "outputs": [
    {
     "data": {
      "text/plain": [
       "13"
      ]
     },
     "execution_count": 22,
     "metadata": {},
     "output_type": "execute_result"
    }
   ],
   "source": [
    "df_columns = list(df.columns) # получаем список фичей\n",
    "len(df_columns)"
   ]
  },
  {
   "cell_type": "code",
   "execution_count": 23,
   "metadata": {},
   "outputs": [
    {
     "data": {
      "text/plain": [
       "12"
      ]
     },
     "execution_count": 23,
     "metadata": {},
     "output_type": "execute_result"
    }
   ],
   "source": [
    "df_columns.pop() # удаляем ID\n",
    "len(df_columns)"
   ]
  },
  {
   "cell_type": "code",
   "execution_count": 24,
   "metadata": {},
   "outputs": [
    {
     "data": {
      "text/plain": [
       "['ipa_funding',\n",
       " 'ma_premium',\n",
       " 'ma_risk_score',\n",
       " 'mbr_with_rx_rebates',\n",
       " 'partd_premium',\n",
       " 'pcp_cap',\n",
       " 'plan_premium',\n",
       " 'reinsurance',\n",
       " 'rx',\n",
       " 'rx_with_rebates',\n",
       " 'rx_without_rebates',\n",
       " 'spec_cap']"
      ]
     },
     "execution_count": 24,
     "metadata": {},
     "output_type": "execute_result"
    }
   ],
   "source": [
    "df_columns"
   ]
  },
  {
   "cell_type": "markdown",
   "metadata": {},
   "source": [
    "### Теперь напишим небольшую ф-ю которая на основании данных будет вычислять ст. отклонение, среднюю, верхние и нижние границы квартилей. Основываясь на этих данных для каждого экзмепляра данных по данному признаку будем делать метку в отдельном признаке: входит ли он в диапозон 3х станд. откл-й или нет."
   ]
  },
  {
   "cell_type": "code",
   "execution_count": 25,
   "metadata": {},
   "outputs": [
    {
     "name": "stdout",
     "output_type": "stream",
     "text": [
      "['outliers_ipa_funding']\n",
      "feature: ipa_funding\n",
      "\tstd = 7690.19 mean = 10657.85 \n",
      "\tlow = -12412.73 upper = 33728.42 \n",
      "['outliers_ipa_funding', 'outliers_ma_premium']\n",
      "feature: ma_premium\n",
      "\tstd = 8955.58 mean = 12311.73 \n",
      "\tlow = -14555.01 upper = 39178.46 \n",
      "['outliers_ipa_funding', 'outliers_ma_premium', 'outliers_ma_risk_score']\n",
      "feature: ma_risk_score\n",
      "\tstd = 11.40 mean = 14.60 \n",
      "\tlow = -19.59 upper = 48.80 \n",
      "['outliers_ipa_funding', 'outliers_ma_premium', 'outliers_ma_risk_score', 'outliers_mbr_with_rx_rebates']\n",
      "feature: mbr_with_rx_rebates\n",
      "\tstd = 1130.53 mean = 500.43 \n",
      "\tlow = -2891.18 upper = 3892.03 \n",
      "['outliers_ipa_funding', 'outliers_ma_premium', 'outliers_ma_risk_score', 'outliers_mbr_with_rx_rebates', 'outliers_partd_premium']\n",
      "feature: partd_premium\n",
      "\tstd = 239.16 mean = 281.52 \n",
      "\tlow = -435.94 upper = 998.99 \n",
      "['outliers_ipa_funding', 'outliers_ma_premium', 'outliers_ma_risk_score', 'outliers_mbr_with_rx_rebates', 'outliers_partd_premium', 'outliers_pcp_cap']\n",
      "feature: pcp_cap\n",
      "\tstd = 269.44 mean = 507.88 \n",
      "\tlow = -300.43 upper = 1316.19 \n",
      "['outliers_ipa_funding', 'outliers_ma_premium', 'outliers_ma_risk_score', 'outliers_mbr_with_rx_rebates', 'outliers_partd_premium', 'outliers_pcp_cap', 'outliers_plan_premium']\n",
      "feature: plan_premium\n",
      "\tstd = 9165.14 mean = 12622.88 \n",
      "\tlow = -14872.56 upper = 40118.31 \n",
      "['outliers_ipa_funding', 'outliers_ma_premium', 'outliers_ma_risk_score', 'outliers_mbr_with_rx_rebates', 'outliers_partd_premium', 'outliers_pcp_cap', 'outliers_plan_premium', 'outliers_reinsurance']\n",
      "feature: reinsurance\n",
      "\tstd = 0.51 mean = 8.73 \n",
      "\tlow = 7.21 upper = 10.25 \n",
      "['outliers_ipa_funding', 'outliers_ma_premium', 'outliers_ma_risk_score', 'outliers_mbr_with_rx_rebates', 'outliers_partd_premium', 'outliers_pcp_cap', 'outliers_plan_premium', 'outliers_reinsurance', 'outliers_rx']\n",
      "feature: rx\n",
      "\tstd = 13570.05 mean = 2166.89 \n",
      "\tlow = -38543.25 upper = 42877.03 \n",
      "['outliers_ipa_funding', 'outliers_ma_premium', 'outliers_ma_risk_score', 'outliers_mbr_with_rx_rebates', 'outliers_partd_premium', 'outliers_pcp_cap', 'outliers_plan_premium', 'outliers_reinsurance', 'outliers_rx', 'outliers_rx_with_rebates']\n",
      "feature: rx_with_rebates\n",
      "\tstd = 13867.47 mean = 2177.16 \n",
      "\tlow = -39425.24 upper = 43779.57 \n",
      "['outliers_ipa_funding', 'outliers_ma_premium', 'outliers_ma_risk_score', 'outliers_mbr_with_rx_rebates', 'outliers_partd_premium', 'outliers_pcp_cap', 'outliers_plan_premium', 'outliers_reinsurance', 'outliers_rx', 'outliers_rx_with_rebates', 'outliers_rx_without_rebates']\n",
      "feature: rx_without_rebates\n",
      "\tstd = 13775.44 mean = 2177.39 \n",
      "\tlow = -39148.92 upper = 43503.70 \n",
      "['outliers_ipa_funding', 'outliers_ma_premium', 'outliers_ma_risk_score', 'outliers_mbr_with_rx_rebates', 'outliers_partd_premium', 'outliers_pcp_cap', 'outliers_plan_premium', 'outliers_reinsurance', 'outliers_rx', 'outliers_rx_with_rebates', 'outliers_rx_without_rebates', 'outliers_spec_cap']\n",
      "feature: spec_cap\n",
      "\tstd = 134.98 mean = 811.94 \n",
      "\tlow = 407.01 upper = 1216.87 \n"
     ]
    }
   ],
   "source": [
    "# В функции вычисляем среднюю, станд. отклонение и границы в размере 3х станд-х отклонений\n",
    "def find_outliers(data, columns):\n",
    "    # цикл по всем признакам\n",
    "    columns_outliers = [] # список имен призаков, которые определяют отклоения в вдие булевого значения\n",
    "    for col in columns:\n",
    "        # имя признака который определяет что по данному признаку данная точка имеет отклонение\n",
    "        col_outliers = 'outliers_' + col         \n",
    "        columns_outliers.append(col_outliers)\n",
    "        print(columns_outliers)\n",
    "        print('feature: {}'.format(col))        \n",
    "        data_std = data[col].std() # станд отк\n",
    "        data_mean = data[col].mean() # средняя\n",
    "        print('\\tstd = {:.2f} mean = {:.2f} '.format(data_std, data_mean))\n",
    "        outliers_size = data_std * 3 # размах в 3 станд. откл\n",
    "\n",
    "        lower_limit  = data_mean - outliers_size # нижняя границы\n",
    "        upper_limit = data_mean + outliers_size # верхняя границы\n",
    "        print('\\tlow = {:.2f} upper = {:.2f} '.format(lower_limit, upper_limit))\n",
    "\n",
    "        for i in range(data.shape[0]):            \n",
    "            if data.loc[i, col] > upper_limit or data.loc[i, col]  < lower_limit:\n",
    "                # если точка выходит за границы\n",
    "                data.loc[i, col_outliers] = True\n",
    "            else:\n",
    "                # точка лежит в пределах допустимых границ\n",
    "                data.loc[i, col_outliers] = False\n",
    "    return data, columns_outliers\n",
    "\n",
    "df, columns_outliers = find_outliers(df, df_columns)"
   ]
  },
  {
   "cell_type": "markdown",
   "metadata": {},
   "source": [
    "### Теперь можно посчитать по каждой фиче сколько точек выходят за границы (наша ф-я так же формировала доп столбик выход за границу даже для тех признаков которые не выходят за них, эти признаки нужно удалить): "
   ]
  },
  {
   "cell_type": "code",
   "execution_count": 26,
   "metadata": {},
   "outputs": [
    {
     "name": "stdout",
     "output_type": "stream",
     "text": [
      "feature ipa_funding it has 169 outliers\n",
      "feature ma_premium it has 170 outliers\n",
      "feature ma_risk_score it has 187 outliers\n",
      "feature mbr_with_rx_rebates it has 95 outliers\n",
      "feature partd_premium it has 191 outliers\n",
      "feature rx_with_rebates it has 87 outliers\n",
      "feature rx_without_rebates it has 84 outliers\n",
      "feature spec_cap it has 36 outliers\n"
     ]
    }
   ],
   "source": [
    "for col in columns_outliers:\n",
    "    sum_outliers = df[col].sum()\n",
    "    if sum_outliers > 0:\n",
    "        feature = col.replace('outliers_', '')\n",
    "        print('feature {} it has {} outliers'.format(feature, sum_outliers))\n",
    "    else:\n",
    "        columns_outliers.remove(col)"
   ]
  },
  {
   "cell_type": "code",
   "execution_count": 27,
   "metadata": {},
   "outputs": [
    {
     "name": "stdout",
     "output_type": "stream",
     "text": [
      "['ipa_funding', 'ma_premium', 'ma_risk_score', 'mbr_with_rx_rebates', 'partd_premium', 'plan_premium', 'rx', 'rx_with_rebates', 'rx_without_rebates', 'spec_cap']\n"
     ]
    }
   ],
   "source": [
    "col_out = []\n",
    "for col in columns_outliers:\n",
    "    col_out.append(col.replace('outliers_', ''))\n",
    "print(col_out)"
   ]
  },
  {
   "cell_type": "code",
   "execution_count": 28,
   "metadata": {},
   "outputs": [
    {
     "data": {
      "text/plain": [
       "array([[<matplotlib.axes._subplots.AxesSubplot object at 0x0000000012D2A860>,\n",
       "        <matplotlib.axes._subplots.AxesSubplot object at 0x0000000012D062E8>,\n",
       "        <matplotlib.axes._subplots.AxesSubplot object at 0x0000000012A7E550>],\n",
       "       [<matplotlib.axes._subplots.AxesSubplot object at 0x0000000012C5B860>,\n",
       "        <matplotlib.axes._subplots.AxesSubplot object at 0x00000000129905F8>,\n",
       "        <matplotlib.axes._subplots.AxesSubplot object at 0x0000000012967390>],\n",
       "       [<matplotlib.axes._subplots.AxesSubplot object at 0x0000000012A3EE80>,\n",
       "        <matplotlib.axes._subplots.AxesSubplot object at 0x000000001249CEB8>,\n",
       "        <matplotlib.axes._subplots.AxesSubplot object at 0x000000001249CE80>],\n",
       "       [<matplotlib.axes._subplots.AxesSubplot object at 0x00000000121B3518>,\n",
       "        <matplotlib.axes._subplots.AxesSubplot object at 0x000000001213AF60>,\n",
       "        <matplotlib.axes._subplots.AxesSubplot object at 0x00000000121149E8>]],\n",
       "      dtype=object)"
      ]
     },
     "execution_count": 28,
     "metadata": {},
     "output_type": "execute_result"
    },
    {
     "data": {
      "image/png": "[encoded data removed]",
      "text/plain": [
       "<Figure size 1440x1440 with 12 Axes>"
      ]
     },
     "metadata": {
      "needs_background": "light"
     },
     "output_type": "display_data"
    }
   ],
   "source": [
    "df[col_out].hist(figsize = (20, 20))"
   ]
  },
  {
   "cell_type": "markdown",
   "metadata": {},
   "source": [
    "### Видим что практически у всех призанков имеется смещение влево. Это говорит о том что в данные внесены экстремально большие значения. Один признак из этого правила выбивается - \"spec_cap\", у него распределение больше похоже на пуассоновское и кол-о выбросов на порядок меньше чем у остальных. Посмотрим на boxplot"
   ]
  },
  {
   "cell_type": "code",
   "execution_count": 29,
   "metadata": {},
   "outputs": [
    {
     "data": {
      "text/plain": [
       "<matplotlib.axes._subplots.AxesSubplot at 0x12aa6a90>"
      ]
     },
     "execution_count": 29,
     "metadata": {},
     "output_type": "execute_result"
    },
    {
     "data": {
      "image/png": "[encoded data removed]",
      "text/plain": [
       "<Figure size 1440x1080 with 1 Axes>"
      ]
     },
     "metadata": {
      "needs_background": "light"
     },
     "output_type": "display_data"
    }
   ],
   "source": [
    "plt.figure(figsize = (20, 15))\n",
    "sns.boxplot(data = df[col_out])"
   ]
  },
  {
   "cell_type": "markdown",
   "metadata": {},
   "source": [
    "### Видим что для 4х признаков масштаб не подходит. Эти 4 признака расмотрим отдельно от всех (\"ma_risk_score\", \"mbr_with_rx_rebates\", \"partd_premium\", \"spec_cap\"). И оставшиеся так же посмотрим без этих 4х"
   ]
  },
  {
   "cell_type": "code",
   "execution_count": 30,
   "metadata": {},
   "outputs": [],
   "source": [
    "col_out_min = ['ma_risk_score', 'mbr_with_rx_rebates', 'partd_premium', 'spec_cap']"
   ]
  },
  {
   "cell_type": "code",
   "execution_count": 31,
   "metadata": {},
   "outputs": [],
   "source": [
    "col_out_max = [col.replace('outliers_', '') for col in columns_outliers if not(col.replace('outliers_', '') in col_out_min) ]"
   ]
  },
  {
   "cell_type": "code",
   "execution_count": 32,
   "metadata": {},
   "outputs": [
    {
     "data": {
      "text/plain": [
       "<matplotlib.axes._subplots.AxesSubplot at 0x12e45f60>"
      ]
     },
     "execution_count": 32,
     "metadata": {},
     "output_type": "execute_result"
    },
    {
     "data": {
      "image/png": "[encoded data removed]",
      "text/plain": [
       "<Figure size 1440x1440 with 1 Axes>"
      ]
     },
     "metadata": {
      "needs_background": "light"
     },
     "output_type": "display_data"
    }
   ],
   "source": [
    "plt.figure(figsize = (20, 20))\n",
    "sns.boxplot(data= df[col_out_max])"
   ]
  },
  {
   "cell_type": "code",
   "execution_count": 33,
   "metadata": {},
   "outputs": [
    {
     "data": {
      "text/plain": [
       "<matplotlib.axes._subplots.AxesSubplot at 0x130f7550>"
      ]
     },
     "execution_count": 33,
     "metadata": {},
     "output_type": "execute_result"
    },
    {
     "data": {
      "image/png": "[encoded data removed]",
      "text/plain": [
       "<Figure size 1440x1440 with 1 Axes>"
      ]
     },
     "metadata": {
      "needs_background": "light"
     },
     "output_type": "display_data"
    }
   ],
   "source": [
    "plt.figure(figsize = (20, 20))\n",
    "sns.boxplot(data = df[col_out_min])"
   ]
  },
  {
   "cell_type": "markdown",
   "metadata": {},
   "source": [
    "### Признак \"mbr_with_rx_rebates\" так же на boxplot расмотрим отдельно. А оставшиея 3 так же отдельно"
   ]
  },
  {
   "cell_type": "code",
   "execution_count": 34,
   "metadata": {},
   "outputs": [
    {
     "data": {
      "text/plain": [
       "<matplotlib.axes._subplots.AxesSubplot at 0x131a5f60>"
      ]
     },
     "execution_count": 34,
     "metadata": {},
     "output_type": "execute_result"
    },
    {
     "data": {
      "image/png": "[encoded data removed]",
      "text/plain": [
       "<Figure size 720x720 with 1 Axes>"
      ]
     },
     "metadata": {
      "needs_background": "light"
     },
     "output_type": "display_data"
    }
   ],
   "source": [
    "col_out_min.remove('mbr_with_rx_rebates')\n",
    "plt.figure(figsize = (10, 10))\n",
    "sns.boxplot(data = df['mbr_with_rx_rebates'])"
   ]
  },
  {
   "cell_type": "code",
   "execution_count": 35,
   "metadata": {},
   "outputs": [
    {
     "data": {
      "text/plain": [
       "count    10530.000000\n",
       "mean       500.425354\n",
       "std       1130.533796\n",
       "min         13.940000\n",
       "25%        197.210000\n",
       "50%        312.365000\n",
       "75%        499.352500\n",
       "max      32687.500000\n",
       "Name: mbr_with_rx_rebates, dtype: float64"
      ]
     },
     "execution_count": 35,
     "metadata": {},
     "output_type": "execute_result"
    }
   ],
   "source": [
    "df['mbr_with_rx_rebates'].describe()"
   ]
  },
  {
   "cell_type": "code",
   "execution_count": 36,
   "metadata": {},
   "outputs": [
    {
     "name": "stdout",
     "output_type": "stream",
     "text": [
      "percent outliers in mbr_with_rx_rebates = 0.90\n"
     ]
    }
   ],
   "source": [
    "print('percent outliers in mbr_with_rx_rebates = {:.2f}'.format(df.outliers_mbr_with_rx_rebates.sum() / df.shape[0] * 100))"
   ]
  },
  {
   "cell_type": "markdown",
   "metadata": {},
   "source": [
    "### Видим что по данному признаку \"mbr_with_rx_rebates\" очень большой дисбаланс "
   ]
  },
  {
   "cell_type": "code",
   "execution_count": 37,
   "metadata": {},
   "outputs": [
    {
     "data": {
      "text/plain": [
       "<matplotlib.axes._subplots.AxesSubplot at 0x1318fc88>"
      ]
     },
     "execution_count": 37,
     "metadata": {},
     "output_type": "execute_result"
    },
    {
     "data": {
      "image/png": "[encoded data removed]",
      "text/plain": [
       "<Figure size 1440x1440 with 1 Axes>"
      ]
     },
     "metadata": {
      "needs_background": "light"
     },
     "output_type": "display_data"
    }
   ],
   "source": [
    "plt.figure(figsize = (20, 20))\n",
    "sns.boxplot(data = df[col_out_min])"
   ]
  },
  {
   "cell_type": "code",
   "execution_count": 38,
   "metadata": {},
   "outputs": [
    {
     "data": {
      "text/plain": [
       "['ma_risk_score', 'partd_premium', 'spec_cap']"
      ]
     },
     "execution_count": 38,
     "metadata": {},
     "output_type": "execute_result"
    }
   ],
   "source": [
    "col_out_min"
   ]
  },
  {
   "cell_type": "code",
   "execution_count": 39,
   "metadata": {},
   "outputs": [
    {
     "data": {
      "text/plain": [
       "<matplotlib.axes._subplots.AxesSubplot at 0x13276ba8>"
      ]
     },
     "execution_count": 39,
     "metadata": {},
     "output_type": "execute_result"
    },
    {
     "data": {
      "image/png": "[encoded data removed]",
      "text/plain": [
       "<Figure size 432x288 with 1 Axes>"
      ]
     },
     "metadata": {
      "needs_background": "light"
     },
     "output_type": "display_data"
    }
   ],
   "source": [
    "sns.boxplot(data = df['ma_risk_score'])"
   ]
  },
  {
   "cell_type": "markdown",
   "metadata": {},
   "source": [
    "### 3.2.2 "
   ]
  },
  {
   "cell_type": "markdown",
   "metadata": {},
   "source": [
    "# Кластеризация. \n",
    "### Все выше перечисленные методы были применены к отдельно взятым фичам. Т.е. анализировался признак каждого экземпляра данных в контексте именно даннаго признака. Можно попробовать подойти к данной задаче как к задаче ML - попробовать кластеризовать данные по всему пространству финансовых признаков. Таким образом каждый экземпляр данных будет представлять собой точку в n-мерном пространстве (где n количество фичей). В связи с этим применим последовательно ряд методов кластерицазии"
   ]
  },
  {
   "cell_type": "markdown",
   "metadata": {},
   "source": [
    "## DBSCAN "
   ]
  },
  {
   "cell_type": "code",
   "execution_count": 40,
   "metadata": {},
   "outputs": [],
   "source": [
    "from sklearn.cluster import DBSCAN"
   ]
  },
  {
   "cell_type": "code",
   "execution_count": 41,
   "metadata": {},
   "outputs": [
    {
     "data": {
      "text/plain": [
       "10530"
      ]
     },
     "execution_count": 41,
     "metadata": {},
     "output_type": "execute_result"
    }
   ],
   "source": [
    "outlier_detection = DBSCAN(min_samples = 2, eps = 3) # создаем наш кластеризатор\n",
    "\n",
    "clusters = outlier_detection.fit_predict(df[col_out]) # проводим кластеризацию на наших фин-х фичах\n",
    "list(clusters).count(-1)"
   ]
  },
  {
   "cell_type": "code",
   "execution_count": 42,
   "metadata": {},
   "outputs": [
    {
     "data": {
      "text/plain": [
       "10530"
      ]
     },
     "execution_count": 42,
     "metadata": {},
     "output_type": "execute_result"
    }
   ],
   "source": [
    "df.shape[0]"
   ]
  },
  {
   "cell_type": "markdown",
   "metadata": {},
   "source": [
    "### Видим что данный алгоритм не смог выявить в данном признаковом пространстве отклоений. Таким образом наши данные в этом пространстве плотно сгруппированы. Попробуем другой алгоритм"
   ]
  },
  {
   "cell_type": "markdown",
   "metadata": {},
   "source": [
    "## IsolationForest "
   ]
  },
  {
   "cell_type": "code",
   "execution_count": 43,
   "metadata": {},
   "outputs": [],
   "source": [
    "from sklearn.ensemble import IsolationForest\n"
   ]
  },
  {
   "cell_type": "code",
   "execution_count": 44,
   "metadata": {},
   "outputs": [],
   "source": [
    "# создаем кластеризатор\n",
    "clf = IsolationForest(behaviour= 'new', max_samples= 100, random_state=1, contamination='auto')\n",
    "# делим наши данные\n",
    "preds = clf.fit_predict(df[col_out])"
   ]
  },
  {
   "cell_type": "code",
   "execution_count": 45,
   "metadata": {},
   "outputs": [
    {
     "data": {
      "text/plain": [
       "1227"
      ]
     },
     "execution_count": 45,
     "metadata": {},
     "output_type": "execute_result"
    }
   ],
   "source": [
    "(preds == -1).sum() # кол-о аномальных точек"
   ]
  },
  {
   "cell_type": "code",
   "execution_count": 46,
   "metadata": {},
   "outputs": [],
   "source": [
    "# преобразуем из массива в булев список \n",
    "out_IsF = []\n",
    "for p in preds:\n",
    "    if p == -1:\n",
    "        out_IsF.append(True)\n",
    "    else:\n",
    "        out_IsF.append(False)"
   ]
  },
  {
   "cell_type": "code",
   "execution_count": 47,
   "metadata": {},
   "outputs": [],
   "source": [
    "df['outliers_IsF'] = out_IsF # создаем отедльный признак, который говорит о пренадлежности экземпляра данных к выбросам"
   ]
  },
  {
   "cell_type": "code",
   "execution_count": 48,
   "metadata": {},
   "outputs": [
    {
     "data": {
      "text/html": [
       "<div>\n",
       "<style scoped>\n",
       "    .dataframe tbody tr th:only-of-type {\n",
       "        vertical-align: middle;\n",
       "    }\n",
       "\n",
       "    .dataframe tbody tr th {\n",
       "        vertical-align: top;\n",
       "    }\n",
       "\n",
       "    .dataframe thead th {\n",
       "        text-align: right;\n",
       "    }\n",
       "</style>\n",
       "<table border=\"1\" class=\"dataframe\">\n",
       "  <thead>\n",
       "    <tr style=\"text-align: right;\">\n",
       "      <th></th>\n",
       "      <th>ipa_funding</th>\n",
       "      <th>ma_premium</th>\n",
       "      <th>ma_risk_score</th>\n",
       "      <th>mbr_with_rx_rebates</th>\n",
       "      <th>partd_premium</th>\n",
       "      <th>pcp_cap</th>\n",
       "      <th>plan_premium</th>\n",
       "      <th>reinsurance</th>\n",
       "      <th>rx</th>\n",
       "      <th>rx_with_rebates</th>\n",
       "      <th>...</th>\n",
       "      <th>outliers_mbr_with_rx_rebates</th>\n",
       "      <th>outliers_partd_premium</th>\n",
       "      <th>outliers_pcp_cap</th>\n",
       "      <th>outliers_plan_premium</th>\n",
       "      <th>outliers_reinsurance</th>\n",
       "      <th>outliers_rx</th>\n",
       "      <th>outliers_rx_with_rebates</th>\n",
       "      <th>outliers_rx_without_rebates</th>\n",
       "      <th>outliers_spec_cap</th>\n",
       "      <th>outliers_IsF</th>\n",
       "    </tr>\n",
       "  </thead>\n",
       "  <tbody>\n",
       "    <tr>\n",
       "      <th>0</th>\n",
       "      <td>2721.85</td>\n",
       "      <td>3611.21</td>\n",
       "      <td>2.02</td>\n",
       "      <td>632.13</td>\n",
       "      <td>82.13</td>\n",
       "      <td>474.83</td>\n",
       "      <td>3507.00</td>\n",
       "      <td>7.92</td>\n",
       "      <td>0.00</td>\n",
       "      <td>0.00</td>\n",
       "      <td>...</td>\n",
       "      <td>False</td>\n",
       "      <td>False</td>\n",
       "      <td>False</td>\n",
       "      <td>False</td>\n",
       "      <td>False</td>\n",
       "      <td>False</td>\n",
       "      <td>False</td>\n",
       "      <td>False</td>\n",
       "      <td>False</td>\n",
       "      <td>False</td>\n",
       "    </tr>\n",
       "    <tr>\n",
       "      <th>1</th>\n",
       "      <td>5060.21</td>\n",
       "      <td>6817.97</td>\n",
       "      <td>5.24</td>\n",
       "      <td>2535.98</td>\n",
       "      <td>205.93</td>\n",
       "      <td>457.04</td>\n",
       "      <td>6204.84</td>\n",
       "      <td>8.13</td>\n",
       "      <td>11289.69</td>\n",
       "      <td>10688.46</td>\n",
       "      <td>...</td>\n",
       "      <td>False</td>\n",
       "      <td>False</td>\n",
       "      <td>False</td>\n",
       "      <td>False</td>\n",
       "      <td>False</td>\n",
       "      <td>False</td>\n",
       "      <td>False</td>\n",
       "      <td>False</td>\n",
       "      <td>False</td>\n",
       "      <td>True</td>\n",
       "    </tr>\n",
       "    <tr>\n",
       "      <th>2</th>\n",
       "      <td>3159.82</td>\n",
       "      <td>3443.32</td>\n",
       "      <td>3.17</td>\n",
       "      <td>595.96</td>\n",
       "      <td>59.13</td>\n",
       "      <td>482.63</td>\n",
       "      <td>4012.46</td>\n",
       "      <td>7.92</td>\n",
       "      <td>0.00</td>\n",
       "      <td>0.00</td>\n",
       "      <td>...</td>\n",
       "      <td>False</td>\n",
       "      <td>False</td>\n",
       "      <td>False</td>\n",
       "      <td>False</td>\n",
       "      <td>False</td>\n",
       "      <td>False</td>\n",
       "      <td>False</td>\n",
       "      <td>False</td>\n",
       "      <td>False</td>\n",
       "      <td>False</td>\n",
       "    </tr>\n",
       "    <tr>\n",
       "      <th>3</th>\n",
       "      <td>9563.23</td>\n",
       "      <td>11015.31</td>\n",
       "      <td>9.92</td>\n",
       "      <td>181.95</td>\n",
       "      <td>265.65</td>\n",
       "      <td>469.04</td>\n",
       "      <td>9770.61</td>\n",
       "      <td>8.30</td>\n",
       "      <td>73.88</td>\n",
       "      <td>62.87</td>\n",
       "      <td>...</td>\n",
       "      <td>False</td>\n",
       "      <td>False</td>\n",
       "      <td>False</td>\n",
       "      <td>False</td>\n",
       "      <td>False</td>\n",
       "      <td>False</td>\n",
       "      <td>False</td>\n",
       "      <td>False</td>\n",
       "      <td>False</td>\n",
       "      <td>False</td>\n",
       "    </tr>\n",
       "    <tr>\n",
       "      <th>4</th>\n",
       "      <td>17456.26</td>\n",
       "      <td>17590.58</td>\n",
       "      <td>25.55</td>\n",
       "      <td>810.83</td>\n",
       "      <td>210.62</td>\n",
       "      <td>527.98</td>\n",
       "      <td>19976.13</td>\n",
       "      <td>8.90</td>\n",
       "      <td>522.48</td>\n",
       "      <td>517.56</td>\n",
       "      <td>...</td>\n",
       "      <td>False</td>\n",
       "      <td>False</td>\n",
       "      <td>False</td>\n",
       "      <td>False</td>\n",
       "      <td>False</td>\n",
       "      <td>False</td>\n",
       "      <td>False</td>\n",
       "      <td>False</td>\n",
       "      <td>False</td>\n",
       "      <td>False</td>\n",
       "    </tr>\n",
       "  </tbody>\n",
       "</table>\n",
       "<p>5 rows × 26 columns</p>\n",
       "</div>"
      ],
      "text/plain": [
       "   ipa_funding  ma_premium  ma_risk_score  mbr_with_rx_rebates  partd_premium  \\\n",
       "0      2721.85     3611.21           2.02               632.13          82.13   \n",
       "1      5060.21     6817.97           5.24              2535.98         205.93   \n",
       "2      3159.82     3443.32           3.17               595.96          59.13   \n",
       "3      9563.23    11015.31           9.92               181.95         265.65   \n",
       "4     17456.26    17590.58          25.55               810.83         210.62   \n",
       "\n",
       "   pcp_cap  plan_premium  reinsurance        rx  rx_with_rebates  ...  \\\n",
       "0   474.83       3507.00         7.92      0.00             0.00  ...   \n",
       "1   457.04       6204.84         8.13  11289.69         10688.46  ...   \n",
       "2   482.63       4012.46         7.92      0.00             0.00  ...   \n",
       "3   469.04       9770.61         8.30     73.88            62.87  ...   \n",
       "4   527.98      19976.13         8.90    522.48           517.56  ...   \n",
       "\n",
       "   outliers_mbr_with_rx_rebates  outliers_partd_premium  outliers_pcp_cap  \\\n",
       "0                         False                   False             False   \n",
       "1                         False                   False             False   \n",
       "2                         False                   False             False   \n",
       "3                         False                   False             False   \n",
       "4                         False                   False             False   \n",
       "\n",
       "   outliers_plan_premium  outliers_reinsurance  outliers_rx  \\\n",
       "0                  False                 False        False   \n",
       "1                  False                 False        False   \n",
       "2                  False                 False        False   \n",
       "3                  False                 False        False   \n",
       "4                  False                 False        False   \n",
       "\n",
       "   outliers_rx_with_rebates  outliers_rx_without_rebates  outliers_spec_cap  \\\n",
       "0                     False                        False              False   \n",
       "1                     False                        False              False   \n",
       "2                     False                        False              False   \n",
       "3                     False                        False              False   \n",
       "4                     False                        False              False   \n",
       "\n",
       "   outliers_IsF  \n",
       "0         False  \n",
       "1          True  \n",
       "2         False  \n",
       "3         False  \n",
       "4         False  \n",
       "\n",
       "[5 rows x 26 columns]"
      ]
     },
     "execution_count": 48,
     "metadata": {},
     "output_type": "execute_result"
    }
   ],
   "source": [
    "df.head()"
   ]
  },
  {
   "cell_type": "code",
   "execution_count": null,
   "metadata": {},
   "outputs": [],
   "source": []
  }
 ],
 "metadata": {
  "kernelspec": {
   "display_name": "Python 3",
   "language": "python",
   "name": "python3"
  },
  "language_info": {
   "codemirror_mode": {
    "name": "ipython",
    "version": 3
   },
   "file_extension": ".py",
   "mimetype": "text/x-python",
   "name": "python",
   "nbconvert_exporter": "python",
   "pygments_lexer": "ipython3",
   "version": "3.7.3"
  }
 },
 "nbformat": 4,
 "nbformat_minor": 2
}
